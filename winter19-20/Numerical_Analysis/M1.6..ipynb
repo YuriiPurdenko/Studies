{
 "cells": [
  {
   "cell_type": "code",
   "execution_count": 50,
   "metadata": {},
   "outputs": [
    {
     "data": {
      "text/plain": [
       "revbitstring (generic function with 2 methods)"
      ]
     },
     "execution_count": 50,
     "metadata": {},
     "output_type": "execute_result"
    }
   ],
   "source": [
    "function revbitstring(S = String)\n",
    "    x = Float64(1)\n",
    "    k = Float64(1/2^52)\n",
    "    exp = 0\n",
    "    for i = 64:-1:13\n",
    "        if S[i] == '1'\n",
    "            x += k\n",
    "        end\n",
    "        k *= 2\n",
    "    end\n",
    "    for i = 2:1:12\n",
    "        if S[i] == '1'\n",
    "            exp += 1\n",
    "        end\n",
    "        exp *= 2\n",
    "    end\n",
    "    exp/=2\n",
    "    exp -= 1023\n",
    "    x *= 2^exp\n",
    "    if S[1] == '1'\n",
    "        x = -x\n",
    "    end\n",
    "    return x\n",
    "end"
   ]
  },
  {
   "cell_type": "code",
   "execution_count": 27,
   "metadata": {},
   "outputs": [
    {
     "data": {
      "text/plain": [
       "'A': ASCII/Unicode U+0041 (category Lu: Letter, uppercase)"
      ]
     },
     "execution_count": 27,
     "metadata": {},
     "output_type": "execute_result"
    }
   ],
   "source": [
    "revbitstring(\"ABCDEFG\")"
   ]
  },
  {
   "cell_type": "code",
   "execution_count": 49,
   "metadata": {},
   "outputs": [
    {
     "name": "stdout",
     "output_type": "stream",
     "text": [
      "-512.0"
     ]
    },
    {
     "data": {
      "text/plain": [
       "-1.3517559743731131e-154"
      ]
     },
     "execution_count": 49,
     "metadata": {},
     "output_type": "execute_result"
    }
   ],
   "source": [
    "revbitstring(\"1001111111111100111111111001111111111111111111110011111111111111\")\n"
   ]
  },
  {
   "cell_type": "code",
   "execution_count": 32,
   "metadata": {},
   "outputs": [
    {
     "name": "stdout",
     "output_type": "stream",
     "text": [
      "1"
     ]
    }
   ],
   "source": [
    "for i = 9:2:10\n",
    "        print(1)\n",
    "end"
   ]
  },
  {
   "cell_type": "code",
   "execution_count": null,
   "metadata": {},
   "outputs": [],
   "source": []
  }
 ],
 "metadata": {
  "kernelspec": {
   "display_name": "Julia 1.2.0",
   "language": "julia",
   "name": "julia-1.2"
  },
  "language_info": {
   "file_extension": ".jl",
   "mimetype": "application/julia",
   "name": "julia",
   "version": "1.2.0"
  }
 },
 "nbformat": 4,
 "nbformat_minor": 2
}
