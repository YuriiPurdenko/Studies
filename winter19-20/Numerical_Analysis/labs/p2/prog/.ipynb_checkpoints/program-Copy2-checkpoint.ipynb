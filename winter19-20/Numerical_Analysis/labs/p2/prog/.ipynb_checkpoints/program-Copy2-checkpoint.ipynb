{
 "cells": [
  {
   "cell_type": "markdown",
   "metadata": {},
   "source": [
    "Wiktor Pilarczyk nr indeksu: 308533\n",
    "\n",
    "Ustawianie precyzji obliczeń"
   ]
  },
  {
   "cell_type": "code",
   "execution_count": 1,
   "metadata": {},
   "outputs": [
    {
     "name": "stdout",
     "output_type": "stream",
     "text": [
      "\u001b[32m\u001b[1m  Updating\u001b[22m\u001b[39m registry at `~/.julia/registries/General`\n",
      "\u001b[32m\u001b[1m  Updating\u001b[22m\u001b[39m git-repo `https://github.com/JuliaRegistries/General.git`\n",
      "\u001b[2K\u001b[?25h[1mFetching:\u001b[22m\u001b[39m [========================================>]  100.0 %.0 %\u001b[32m\u001b[1m Resolving\u001b[22m\u001b[39m package versions...\n",
      "\u001b[32m\u001b[1m  Updating\u001b[22m\u001b[39m `~/.julia/environments/v1.0/Project.toml`\n",
      "\u001b[90m [no changes]\u001b[39m\n",
      "\u001b[32m\u001b[1m  Updating\u001b[22m\u001b[39m `~/.julia/environments/v1.0/Manifest.toml`\n",
      "\u001b[90m [no changes]\u001b[39m\n",
      "\u001b[32m\u001b[1m Resolving\u001b[22m\u001b[39m package versions...\n",
      "\u001b[32m\u001b[1m  Updating\u001b[22m\u001b[39m `~/.julia/environments/v1.0/Project.toml`\n",
      "\u001b[90m [no changes]\u001b[39m\n",
      "\u001b[32m\u001b[1m  Updating\u001b[22m\u001b[39m `~/.julia/environments/v1.0/Manifest.toml`\n",
      "\u001b[90m [no changes]\u001b[39m\n",
      "\u001b[32m\u001b[1m  Building\u001b[22m\u001b[39m Conda ─→ `~/.julia/packages/Conda/kLXeC/deps/build.log`\n",
      "\u001b[32m\u001b[1m  Building\u001b[22m\u001b[39m PyCall → `~/.julia/packages/PyCall/ttONZ/deps/build.log`\n"
     ]
    },
    {
     "name": "stderr",
     "output_type": "stream",
     "text": [
      "┌ Error: Error building `PyCall`: \n",
      "│   % Total    % Received % Xferd  Average Speed   Time    Time     Time  Current\n",
      "│                                  Dload  Upload   Total   Spent    Left  Speed\n",
      "│ \r",
      "  0     0    0     0    0     0      0      0 --:--:-- --:--:-- --:--:--     0\r",
      "  6 62.6M    6 4142k    0     0  5834k      0  0:00:11 --:--:--  0:00:11 5826k\r",
      " 17 62.6M   17 11.2M    0     0  6885k      0  0:00:09  0:00:01  0:00:08 6880k\r",
      " 31 62.6M   31 19.5M    0     0  7421k      0  0:00:08  0:00:02  0:00:06 7419k\r",
      " 44 62.6M   44 28.0M    0     0  7808k      0  0:00:08  0:00:03  0:00:05 7806k\r",
      " 56 62.6M   56 35.7M    0     0  7826k      0  0:00:08  0:00:04  0:00:04 7825k\r",
      " 66 62.6M   66 41.8M    0     0  7547k      0  0:00:08  0:00:05  0:00:03 7792k\r",
      " 78 62.6M   78 49.2M    0     0  7552k      0  0:00:08  0:00:06  0:00:02 7776k\r",
      " 89 62.6M   89 56.1M    0     0  7492k      0  0:00:08  0:00:07  0:00:01 7528k\r",
      "100 62.6M  100 62.6M    0     0  7422k      0  0:00:08  0:00:08 --:--:-- 7139k\n",
      "│ PREFIX=/home/wiklam/.julia/conda/3\n",
      "│ reinstalling: python-3.7.1-h0371630_7 ...\n",
      "│ /home/wiklam/.julia/conda/3/installer.sh: 373: /home/wiklam/.julia/conda/3/installer.sh: /home/wiklam/.julia/conda/3/pkgs/python-3.7.1-h0371630_7/bin/python: not found\n",
      "│ ┌ Info: No system-wide Python was found; got the following error:\n",
      "│ │ ErrorException(\"python3 is 64-bit, but Julia is 32-bit\")\n",
      "│ └ using the Python distribution in the Conda package\n",
      "│ [ Info: Downloading miniconda installer ...\n",
      "│ [ Info: Installing miniconda ...\n",
      "│ ERROR: LoadError: failed process: Process(`/home/wiklam/.julia/conda/3/installer.sh -b -f -p /home/wiklam/.julia/conda/3`, ProcessExited(1)) [1]\n",
      "│ Stacktrace:\n",
      "│  [1] error(::String, ::Base.Process, ::String, ::Int64, ::String) at ./error.jl:42\n",
      "│  [2] pipeline_error at ./process.jl:705 [inlined]\n",
      "│  [3] #run#505(::Bool, ::Function, ::Cmd) at ./process.jl:663\n",
      "│  [4] run at ./process.jl:661 [inlined]\n",
      "│  [5] _install_conda(::String, ::Bool) at /home/wiklam/.julia/packages/Conda/kLXeC/src/Conda.jl:165\n",
      "│  [6] _install_conda(::String) at /home/wiklam/.julia/packages/Conda/kLXeC/src/Conda.jl:152\n",
      "│  [7] runconda(::Cmd, ::String) at /home/wiklam/.julia/packages/Conda/kLXeC/src/Conda.jl:111\n",
      "│  [8] #add#1(::String, ::Function, ::String, ::String) at /home/wiklam/.julia/packages/Conda/kLXeC/src/Conda.jl:184\n",
      "│  [9] add at /home/wiklam/.julia/packages/Conda/kLXeC/src/Conda.jl:183 [inlined] (repeats 2 times)\n",
      "│  [10] top-level scope at /home/wiklam/.julia/packages/PyCall/ttONZ/deps/build.jl:84\n",
      "│  [11] include at ./boot.jl:317 [inlined]\n",
      "│  [12] include_relative(::Module, ::String) at ./loading.jl:1044\n",
      "│  [13] include(::Module, ::String) at ./sysimg.jl:29\n",
      "│  [14] include(::String) at ./client.jl:392\n",
      "│  [15] top-level scope at none:0\n",
      "│ in expression starting at /home/wiklam/.julia/packages/PyCall/ttONZ/deps/build.jl:43\n",
      "└ @ Pkg.Operations /buildworker/worker/package_linux32/build/usr/share/julia/stdlib/v1.0/Pkg/src/Operations.jl:1096\n",
      "┌ Info: Recompiling stale cache file /home/wiklam/.julia/compiled/v1.0/Plots/ld3vC.ji for Plots [91a5bcdd-55d7-5caf-9e0b-520d859cae80]\n",
      "└ @ Base loading.jl:1190\n"
     ]
    }
   ],
   "source": [
    "setprecision(64)\n",
    "import Pkg; Pkg.add(\"Polynomials\")\n",
    "import Pkg; Pkg.add(\"PyPlot\")\n",
    "Pkg.build(\"PyCall\")\n",
    "using Plots\n",
    "using Polynomials"
   ]
  },
  {
   "cell_type": "markdown",
   "metadata": {},
   "source": [
    "Funkcja initarray służy do zainicjalizowania tablicy o k elementach."
   ]
  },
  {
   "cell_type": "code",
   "execution_count": 14,
   "metadata": {},
   "outputs": [
    {
     "data": {
      "text/plain": [
       "initarray (generic function with 1 method)"
      ]
     },
     "execution_count": 14,
     "metadata": {},
     "output_type": "execute_result"
    }
   ],
   "source": [
    "function initarray(tab, val, k)\n",
    "    for i in 1:1:k\n",
    "        append!(tab,BigFloat(val))\n",
    "    end\n",
    "end"
   ]
  },
  {
   "cell_type": "markdown",
   "metadata": {},
   "source": [
    "# Wielomian optymalny w bazie ortogonalnej\n",
    "## Obliczanie wartości bazy ortogonalnej w punktach $x_{i}$\n",
    "Korzystając ze związku rekurencyjnego:\n",
    "$$P_{0}(x) = 1 \\ \\ \\ \\ \\ \\ \\ \\ \\ \\ \\ \\ P_{1}(x) = 1 - a_{1}$$\n",
    "$$P_{k}(x) = (x - a_{k}) P_{k-1}(x) - b_{k}P_{k-2}(x) $$\n",
    "gdzie\n",
    "$$a_{k} = \\frac{<xP_{k-1},P_{k-1}>}{<P_{k-1},P_{k-1}>} \\ \\ \\ \\ \\ \\ b_{k} = \\frac{<P_{k-1},P_{k-1}>}{<P_{k-2},P_{k-2}>}$$\n",
    "\n",
    "Na podstawie powyższej zależności rekurencyjnej funkcja nextbase będzie obliczała wartości $P_{k}(x)$ w punktach $x_{i}$."
   ]
  },
  {
   "cell_type": "code",
   "execution_count": 15,
   "metadata": {},
   "outputs": [
    {
     "data": {
      "text/plain": [
       "nextbase (generic function with 1 method)"
      ]
     },
     "execution_count": 15,
     "metadata": {},
     "output_type": "execute_result"
    }
   ],
   "source": [
    "function nextbase(x, base1, base2, base3, a, b, k)\n",
    "    c = BigFloat(0.0)\n",
    "    d = BigFloat(0.0)\n",
    "    e = BigFloat(0.0)\n",
    "    \n",
    "    for i in 1:1:k #wyliczanie wspolczynnikow c i d\n",
    "        var = BigFloat(base2[i]) * BigFloat(base2[i])\n",
    "        c += BigFloat(x[i]) * BigFloat(var)\n",
    "        d += BigFloat(var)\n",
    "        e += BigFloat(base1[i]) * BigFloat(base1[i])\n",
    "    end\n",
    "    #print(\"\\nc:\",c,\"\\nd:\",d,\"\\n\")\n",
    "    c /= BigFloat(d)\n",
    "    d /= BigFloat(e)\n",
    "    append!(a, BigFloat(c))\n",
    "    append!(b, BigFloat(d))\n",
    "    #a[lvl] = c\n",
    "    #b[lvl] = d\n",
    "    \n",
    "    for i in 1:1:k #obliczanie wartosci wielomianu z bazy w punktach xk\n",
    "        base3[i] = (BigFloat(x[i]) - BigFloat(c)) * BigFloat(base2[i]) - BigFloat(d) * BigFloat(base1[i])\n",
    "    end\n",
    "    \n",
    "end"
   ]
  },
  {
   "cell_type": "markdown",
   "metadata": {},
   "source": [
    "## Obliczanie wartości n-tego wielomianu optymalnego w punktach $x_{i}$\n",
    "Wiemy, że wielomian optymalny można przedstawić za pomocą wzoru:\n",
    "$$w_{n}^{*}(x) = \\sum_{i=0}^{n} \\alpha_{i}B_{i}(x) = \\sum_{i=0}^{n} \\frac{<f,B_{i}>}{<B_{i},B_{i}>}B_{i}(x)$$\n",
    "korzystając z tego, że poprzedni wielomian został obliczony to \n",
    "$$w_{n}^{*}(x) = \\frac{<f,B_{n}>}{<B_{n},B_{n}>}B_{n}(x) + \\sum_{i=0}^{n-1} \\frac{<f,B_{i}>}{<B_{i},B_{i}>}B_{i}(x) = \\frac{<f,B_{n}>}{<B_{n},B_{n}>}B_{n}(x) + w_{n-1}^{*}(x) $$\n",
    "\n",
    "Na podstawie powyższej zależności rekurencyjnej funkcja będzie obliczała wartości $w_{n}(x)$ w punktach $x_{i}$."
   ]
  },
  {
   "cell_type": "code",
   "execution_count": 16,
   "metadata": {},
   "outputs": [
    {
     "data": {
      "text/plain": [
       "nextpolynomial (generic function with 1 method)"
      ]
     },
     "execution_count": 16,
     "metadata": {},
     "output_type": "execute_result"
    }
   ],
   "source": [
    "function nextpolynomial(x, wiel, base, fun, alfa, k)\n",
    "    a = BigFloat(0.0)\n",
    "    b = BigFloat(0.0)\n",
    "    c = BigFloat(0.0)\n",
    "    for i in 1:1:k #wyliczanie wspolczynika alfa\n",
    "        a += BigFloat(base[i]) * BigFloat(fun[i]) \n",
    "        b += BigFloat(base[i]) * BigFloat(base[i])\n",
    "        #print(\"\\n: \",tabb[i],\"  \", fun[i])\n",
    "    end\n",
    "    # alfa[lvl] = a/b\n",
    "    #print(\"\\na: \",a)\n",
    "    #print(\"\\nb: \",b)\n",
    "    append!(alfa, BigFloat(a/b))\n",
    "    \n",
    "    for i in 1:1:k #wyliczanie wartosci wielomianu optymalnego stopnia lvl w punktach xk\n",
    "        wiel[i] += BigFloat(a/b) * BigFloat(base[i])\n",
    "    end\n",
    "end"
   ]
  },
  {
   "cell_type": "markdown",
   "metadata": {},
   "source": [
    "## Obliczanie potęgowej postaci wielomianu optymalnego\n",
    "Otrzymany wielomian ma postać:\n",
    "$$w_{n} =  \\sum_{i=0}^{n} \\alpha_{i}B_{i}(x)$$\n",
    "Baza jest zadana poprzez zależność rekurencyjną:\n",
    "$$P_{0}(x) = 1 \\ \\ \\ \\ \\ \\ \\ \\ \\ \\ \\ \\ P_{1}(x) = 1 - a_{1}$$\n",
    "$$P_{k}(x) = (x - a_{k}) P_{k-1}(x) - b_{k}P_{k-2}(x) $$\n",
    "gdzie\n",
    "$$a_{k} = \\frac{<xP_{k-1},P_{k-1}>}{<P_{k-1},P_{k-1}>} \\ \\ \\ \\ \\ \\ b_{k} = \\frac{<P_{k-1},P_{k-1}>}{<P_{k-2},P_{k-2}>}$$\n",
    "Więc można skorzystać z uogólnionego algorytmu Clenshawa:\n",
    "$$V_{k} = \\alpha_{k} + (x - a_{k+1})V_{k+1} - b_{k+2}V_{k+2}$$\n",
    "gdzie\n",
    "$$V_{n+1} = V_{n+2} = 0$$\n",
    "wtedy\n",
    "$$w_{n}^{*} = V_{0}$$\n",
    "\n",
    "Na podstawie powyższej zależności rekurencyjnej funkcja będzie obliczała postać potęgową wielomianu optymalnego."
   ]
  },
  {
   "cell_type": "code",
   "execution_count": 17,
   "metadata": {},
   "outputs": [
    {
     "data": {
      "text/plain": [
       "Clenshaw (generic function with 1 method)"
      ]
     },
     "execution_count": 17,
     "metadata": {},
     "output_type": "execute_result"
    }
   ],
   "source": [
    "function Clenshaw(alfa, a, b,res)\n",
    "    n = length(alfa)\n",
    "    vk = []\n",
    "    vk1 = []\n",
    "    vk2 = []\n",
    "    append!(b,0) #gdyz w petli odowalmy sie do elemntu b_n+1\n",
    "    initarray(vk, BigFloat(0), n)\n",
    "    initarray(vk1, BigFloat(0), n)\n",
    "    initarray(vk2, BigFloat(0), n)\n",
    "    vk1[1] = BigFloat(alfa[n])\n",
    "    for i in n - 1:-1:1\n",
    "        vk[1] += BigFloat(alfa[i])\n",
    "        for j in 1:1:n\n",
    "            vk[j] -= BigFloat(a[i]) * BigFloat(vk1[j])\n",
    "            vk[j] -= BigFloat(b[i+1]) * BigFloat(vk2[j])\n",
    "            if j != n\n",
    "                vk[j+1] += BigFloat(vk1[j])\n",
    "            end\n",
    "        end\n",
    "        for j in 1:1:n\n",
    "            vk2[j] = BigFloat(vk1[j])\n",
    "            vk1[j] = BigFloat(vk[j])\n",
    "            vk[j] = BigFloat(0.0)\n",
    "        end\n",
    "    end\n",
    "    initarray(res, BigFloat(0), n)\n",
    "    for j in 1:1:n\n",
    "        res[j] = BigFloat(vk1[j])\n",
    "    end\n",
    "end"
   ]
  },
  {
   "cell_type": "markdown",
   "metadata": {},
   "source": [
    "## Kontrola warunku\n",
    "Funkcja optimalenough sprawdza czy wielomian optymalny spełnia warunek:\n",
    "$$\\sum_{k=0}^{r} [w(x_{k}) - f_{k}]^{2} < \\delta$$\n"
   ]
  },
  {
   "cell_type": "code",
   "execution_count": 18,
   "metadata": {},
   "outputs": [
    {
     "data": {
      "text/plain": [
       "optimalenough (generic function with 1 method)"
      ]
     },
     "execution_count": 18,
     "metadata": {},
     "output_type": "execute_result"
    }
   ],
   "source": [
    "function optimalenough(w, fun, delta, k)\n",
    "    sum = BigFloat(0.0)\n",
    "    for i in 1:1:k\n",
    "        sum += (BigFloat(w[i]) - BigFloat(fun[i])) * (BigFloat(w[i]) - BigFloat(fun[i]))\n",
    "    end\n",
    "    if sum >= delta\n",
    "        return false\n",
    "    end\n",
    "    return true\n",
    "end "
   ]
  },
  {
   "cell_type": "markdown",
   "metadata": {},
   "source": [
    "## Szukanie wielomianu\n",
    "Funkcja findoptimal znajduje wielomian optymalny jak najmniejszego stopnia, aby spełniał powyższy warunek, \n",
    "a następnie za pomocą uogólnionego algorytmu Clenshawa oblicza postać potęgową tego wielomianu."
   ]
  },
  {
   "cell_type": "code",
   "execution_count": 19,
   "metadata": {},
   "outputs": [
    {
     "data": {
      "text/plain": [
       "findoptimal (generic function with 1 method)"
      ]
     },
     "execution_count": 19,
     "metadata": {},
     "output_type": "execute_result"
    }
   ],
   "source": [
    "function findoptimal(x, fun, delta, res)\n",
    "    k = length(x)\n",
    "    base1 = [] #obliczenie dwóch pierwszych elementów bazy\n",
    "    base2 = []\n",
    "    base3 = []\n",
    "    a = []\n",
    "    b = [BigFloat(0.0)]\n",
    "    alfa = []\n",
    "    w = []\n",
    "    initarray(base1, BigFloat(1.0), k)\n",
    "    initarray(base2, BigFloat(0.0), k)\n",
    "    initarray(base3, BigFloat(0.0), k)\n",
    "    var1 = BigFloat(0.0)\n",
    "    \n",
    "    for i in 1:1:k #wyliczanie a1\n",
    "        var1 += BigFloat(x[i])\n",
    "    end\n",
    "    append!(a,BigFloat(var1/k))\n",
    "    \n",
    "    var1 = BigFloat(0.0)\n",
    "    for i in 1:1:k\n",
    "        var1 += BigFloat(fun[i])\n",
    "    end\n",
    "    append!(alfa, BigFloat(var1/k))\n",
    "    initarray(w, BigFloat(alfa[1]), k)\n",
    "    if optimalenough(w, fun ,delta, k)\n",
    "        Clenshaw(alfa, a, b, res)\n",
    "        return\n",
    "    end\n",
    "    \n",
    "    for i in 1:1:k #wyliczanie drugie elementu bazy\n",
    "        base2[i] = x[i] - a[1]\n",
    "    end\n",
    "    \n",
    "    nextpolynomial(x, w, base2, fun, alfa, k)\n",
    "    #print(\"\\base2: \",base2)\n",
    "    #print(\"\\nalfa[1]: \",alfa[1])\n",
    "    #print(\"\\nalfa[2]: \",alfa[2])\n",
    "    #print(\"\\na[1]: \",a[1])\n",
    "    while !optimalenough(w, fun ,delta, k)\n",
    "        nextbase(x, base1, base2, base3, a, b, k)\n",
    "        for i in 1:1:k\n",
    "            base1[i] = BigFloat(base2[i])\n",
    "            base2[i] = BigFloat(base3[i])\n",
    "        end\n",
    "        nextpolynomial(x, w, base2, fun, alfa, k)\n",
    "    end\n",
    "    #print(alfa,\"\\n\", a,\"\\n\", b,\"\\n\")\n",
    "    Clenshaw(alfa, a, b, res)\n",
    "end"
   ]
  },
  {
   "cell_type": "markdown",
   "metadata": {},
   "source": [
    "# Obliczanie wielomianu optymalnego wielomianu w bazie {$1, x, x^{2}, …$}\n",
    "## Obliczanie wartości współczynników \n",
    "Korzystając z wzoru na współczynnik $\\alpha_{i}$: $$\\alpha_{i} = \\frac{<f, x^{i}>}{\\sum_{j=0}^{k} < x^{j},x^{i}>}$$\n",
    "funkcja nextstandardpolynomial oplicza współczynniki k-tego wielomianu optymalnego."
   ]
  },
  {
   "cell_type": "code",
   "execution_count": 80,
   "metadata": {},
   "outputs": [
    {
     "data": {
      "text/plain": [
       "findstandardpoly (generic function with 1 method)"
      ]
     },
     "execution_count": 80,
     "metadata": {},
     "output_type": "execute_result"
    }
   ],
   "source": [
    "function scalar(x, i, y, j) #Oblicza ilocznyn skalarny oraz podnosci elementy do potęgi i/j\n",
    "    sum = BigFloat(0)\n",
    "    for g in 1:1:length(x)\n",
    "        a = BigFloat(1)\n",
    "        b = BigFloat(1)\n",
    "        for h in 1:1:i\n",
    "            a *= x[g]\n",
    "        end\n",
    "        for h in 1:1:j\n",
    "            b *= y[g]\n",
    "        end\n",
    "        sum += a*b\n",
    "    end\n",
    "    return sum\n",
    "end\n",
    "            \n",
    "function nextstandard(alpha, x, fun, k)\n",
    "    for i in 0:1:k\n",
    "        a = BigFloat(scalar(fun, 1, x, i))\n",
    "        b = BigFloat(0)\n",
    "        for j in 0:1:k\n",
    "            b += BigFloat(scalar(x,j,x,i))\n",
    "        end\n",
    "        append!(alpha, BigFloat(a/b))\n",
    "    end\n",
    "end\n",
    "\n",
    "function calculatepoly(alfa, x, w)\n",
    "    for i in 1:1:length(x)\n",
    "        wart = BigFloat(alfa[length(alfa)])\n",
    "        for j in length(alfa)-1:-1:1\n",
    "            wart *= BigFloat(x[i])\n",
    "            wart += BigFloat(alfa[j])\n",
    "        end\n",
    "        append!(w, wart)\n",
    "    end\n",
    "end                          \n",
    "\n",
    "function findstandardpoly(x, fun, delta, result)\n",
    "    deg = 0\n",
    "    res = []\n",
    "    w = []\n",
    "    nextstandard(res, x, fun, deg)\n",
    "    calculatepoly(res, x, w)\n",
    "    print(w)\n",
    "    print(res)\n",
    "    while !optimalenough(w, fun ,delta, length(x))\n",
    "        deg += 1\n",
    "        res = []\n",
    "        w = []\n",
    "        nextstandard(res, x, fun, deg)\n",
    "        calculatepoly(res, x, w)\n",
    "        print(res)\n",
    "        print(\"\\n\")\n",
    "        if (deg > 10)\n",
    "            return\n",
    "        end\n",
    "    end\n",
    "        \n",
    "    \n",
    "    result = res\n",
    "end"
   ]
  },
  {
   "cell_type": "code",
   "execution_count": 81,
   "metadata": {},
   "outputs": [
    {
     "name": "stdout",
     "output_type": "stream",
     "text": [
      "Any[6.43125e+01, 6.43125e+01, 6.43125e+01, 6.43125e+01, 6.43125e+01, 6.43125e+01, 6.43125e+01, 6.43125e+01]Any[6.43125e+01]Any[1.37936, 8.43622e-01]\n",
      "Any[1.91278e-02, 1.01943e-02, 8.3948e-03]\n",
      "Any[2.31208e-04, 1.17062e-04, 9.43433e-05, 8.64432e-05]\n",
      "Any[2.65499e-06, 1.31558e-06, 1.04899e-06, 9.55007e-07, 9.12739e-07]\n",
      "Any[2.98377e-08, 1.46278e-08, 1.15891e-08, 1.05026e-08, 1.00009e-08, 9.70796e-09]\n",
      "Any[3.31762e-10, 1.61605e-10, 1.27449e-10, 1.15077e-10, 1.09234e-10, 1.05738e-10, 1.03227e-10]\n",
      "Any[3.66524e-12, 1.77724e-12, 1.39647e-12, 1.25692e-12, 1.18976e-12, 1.14876e-12, 1.11892e-12, 1.09475e-12]\n",
      "Any[4.0308e-14, 1.94732e-14, 1.52528e-14, 1.36902e-14, 1.29259e-14, 1.24519e-14, 1.2103e-14, 1.1819e-14, 1.15755e-14]\n",
      "Any[4.41656e-16, 2.12695e-16, 1.66131e-16, 1.48734e-16, 1.40109e-16, 1.34688e-16, 1.30665e-16, 1.27377e-16, 1.24555e-16, 1.22073e-16]\n",
      "Any[4.82397e-18, 2.31664e-18, 1.8049e-18, 1.61218e-18, 1.51551e-18, 1.4541e-18, 1.40822e-18, 1.37061e-18, 1.3383e-18, 1.3099e-18, 1.28465e-18]\n",
      "Any[5.25419e-20, 2.51687e-20, 1.9564e-20, 1.74385e-20, 1.63616e-20, 1.56714e-20, 1.51528e-20, 1.47267e-20, 1.43605e-20, 1.40387e-20, 1.37527e-20, 1.34972e-20]\n"
     ]
    },
    {
     "name": "stderr",
     "output_type": "stream",
     "text": [
      "┌ Info: Precompiling PyPlot [d330b81b-6aea-500a-939a-2ce795aea3ee]\n",
      "└ @ Base loading.jl:1192\n",
      "ERROR: LoadError: LoadError: PyCall not properly installed. Please run Pkg.build(\"PyCall\")\n",
      "Stacktrace:\n",
      " [1] error(::String) at ./error.jl:33\n",
      " [2] top-level scope at /home/wiklam/.julia/packages/PyCall/ttONZ/src/startup.jl:44 [inlined]\n",
      " [3] top-level scope at ./none:0\n",
      " [4] include at ./boot.jl:317 [inlined]\n",
      " [5] include_relative(::Module, ::String) at ./loading.jl:1044\n",
      " [6] include at ./sysimg.jl:29 [inlined]\n",
      " [7] include(::String) at /home/wiklam/.julia/packages/PyCall/ttONZ/src/PyCall.jl:1\n",
      " [8] top-level scope at none:0\n",
      " [9] include at ./boot.jl:317 [inlined]\n",
      " [10] include_relative(::Module, ::String) at ./loading.jl:1044\n",
      " [11] include(::Module, ::String) at ./sysimg.jl:29\n",
      " [12] top-level scope at none:2\n",
      " [13] eval at ./boot.jl:319 [inlined]\n",
      " [14] eval(::Expr) at ./client.jl:393\n",
      " [15] top-level scope at ./none:3\n",
      "in expression starting at /home/wiklam/.julia/packages/PyCall/ttONZ/src/startup.jl:41\n",
      "in expression starting at /home/wiklam/.julia/packages/PyCall/ttONZ/src/PyCall.jl:41\n",
      "ERROR: LoadError: Failed to precompile PyCall [438e738f-606a-5dbb-bf0a-cddfbfd45ab0] to /home/wiklam/.julia/compiled/v1.0/PyCall/GkzkC.ji.\n",
      "Stacktrace:\n",
      " [1] error(::String) at ./error.jl:33\n",
      " [2] compilecache(::Base.PkgId, ::String) at ./loading.jl:1203\n",
      " [3] _require(::Base.PkgId) at ./loading.jl:960\n",
      " [4] require(::Base.PkgId) at ./loading.jl:858\n",
      " [5] require(::Module, ::Symbol) at ./loading.jl:853\n",
      " [6] include at ./boot.jl:317 [inlined]\n",
      " [7] include_relative(::Module, ::String) at ./loading.jl:1044\n",
      " [8] include(::Module, ::String) at ./sysimg.jl:29\n",
      " [9] top-level scope at none:2\n",
      " [10] eval at ./boot.jl:319 [inlined]\n",
      " [11] eval(::Expr) at ./client.jl:393\n",
      " [12] top-level scope at ./none:3\n",
      "in expression starting at /home/wiklam/.julia/packages/PyPlot/4wzW1/src/PyPlot.jl:4\n"
     ]
    },
    {
     "ename": "ErrorException",
     "evalue": "Failed to precompile PyPlot [d330b81b-6aea-500a-939a-2ce795aea3ee] to /home/wiklam/.julia/compiled/v1.0/PyPlot/oatAj.ji.",
     "output_type": "error",
     "traceback": [
      "Failed to precompile PyPlot [d330b81b-6aea-500a-939a-2ce795aea3ee] to /home/wiklam/.julia/compiled/v1.0/PyPlot/oatAj.ji.",
      "",
      "Stacktrace:",
      " [1] error(::String) at ./error.jl:33",
      " [2] compilecache(::Base.PkgId, ::String) at ./loading.jl:1203",
      " [3] _require(::Base.PkgId) at ./loading.jl:960",
      " [4] require(::Base.PkgId) at ./loading.jl:858",
      " [5] require(::Module, ::Symbol) at ./loading.jl:853",
      " [6] top-level scope at /home/wiklam/.julia/packages/Plots/qZHsp/src/backends.jl:488",
      " [7] eval at ./boot.jl:319 [inlined]",
      " [8] _initialize_backend(::Plots.PyPlotBackend) at /home/wiklam/.julia/packages/Plots/qZHsp/src/backends.jl:487",
      " [9] backend(::Plots.PyPlotBackend) at /home/wiklam/.julia/packages/Plots/qZHsp/src/backends.jl:176",
      " [10] #pyplot#278 at /home/wiklam/.julia/packages/Plots/qZHsp/src/backends.jl:33 [inlined]",
      " [11] pyplot() at /home/wiklam/.julia/packages/Plots/qZHsp/src/backends.jl:33",
      " [12] top-level scope at In[81]:11"
     ]
    }
   ],
   "source": [
    "x = [0,10,20,30,40,80,90,95]\n",
    "fun = [68.0, 67.1, 66.4, 65.6, 64.6, 61.8, 61, 60]\n",
    "\n",
    "#przyklad z listy 7 zad X\n",
    "wiel = Array{Float64,1}(UndefInitializer(), 0)\n",
    "wiel1 = Array{Float64,1}(UndefInitializer(), 0) \n",
    "wiel2 = Array{Float64,1}(UndefInitializer(), 0) \n",
    "wiel3 = Array{Float64,1}(UndefInitializer(), 0)\n",
    "findstandardpoly(x,fun, 10, wiel)\n",
    "wiel\n",
    "\n",
    "pyplot()\n",
    "p = Poly(wiel)\n",
    "xs = range(x[1], stop=x[length(x)], length=10000)\n",
    "plot(xs, [p.(xs)],seriesalpha = 0.55, linewidth=1.3, title=\"Wielomian optymalny\", label=[ \"w_0\" \"w_1\" \"w_2\" \"w_4\"])\n",
    "scatter!(x, fun, label=\"f\")\n"
   ]
  },
  {
   "cell_type": "markdown",
   "metadata": {},
   "source": [
    "# Przykłady"
   ]
  },
  {
   "cell_type": "code",
   "execution_count": 21,
   "metadata": {},
   "outputs": [
    {
     "name": "stdout",
     "output_type": "stream",
     "text": [
      "wspolczynniki otrzymanego wielomianu:[64.3125]\n",
      "wspolczynniki otrzymanego wielomianu:[67.9593, -0.0799304]\n",
      "wspolczynniki otrzymanego wielomianu:[68.0549, -0.103707, 0.00083046, -6.42036e-6]\n",
      "wspolczynniki otrzymanego wielomianu:[67.9517, -0.0602675, -0.00154913, 3.34158e-5, -2.06126e-7]\n"
     ]
    },
    {
     "ename": "ArgumentError",
     "evalue": "ArgumentError: Package PyPlot not found in current path:\n- Run `import Pkg; Pkg.add(\"PyPlot\")` to install the PyPlot package.\n",
     "output_type": "error",
     "traceback": [
      "ArgumentError: Package PyPlot not found in current path:\n- Run `import Pkg; Pkg.add(\"PyPlot\")` to install the PyPlot package.\n",
      "",
      "Stacktrace:",
      " [1] require(::Module, ::Symbol) at ./loading.jl:823",
      " [2] top-level scope at /home/wiklam/.julia/packages/Plots/qZHsp/src/backends.jl:488",
      " [3] eval at ./boot.jl:319 [inlined]",
      " [4] _initialize_backend(::Plots.PyPlotBackend) at /home/wiklam/.julia/packages/Plots/qZHsp/src/backends.jl:487",
      " [5] backend(::Plots.PyPlotBackend) at /home/wiklam/.julia/packages/Plots/qZHsp/src/backends.jl:176",
      " [6] #pyplot#278 at /home/wiklam/.julia/packages/Plots/qZHsp/src/backends.jl:33 [inlined]",
      " [7] pyplot() at /home/wiklam/.julia/packages/Plots/qZHsp/src/backends.jl:33",
      " [8] top-level scope at In[21]:17"
     ]
    }
   ],
   "source": [
    "x = [0,10,20,30,40,80,90,95]\n",
    "fun = [68.0, 67.1, 66.4, 65.6, 64.6, 61.8, 61, 60]\n",
    "\n",
    "#przyklad z listy 7 zad X\n",
    "wiel = Array{Float64,1}(UndefInitializer(), 0)\n",
    "wiel1 = Array{Float64,1}(UndefInitializer(), 0) \n",
    "wiel2 = Array{Float64,1}(UndefInitializer(), 0) \n",
    "wiel3 = Array{Float64,1}(UndefInitializer(), 0)\n",
    "findoptimal(x,fun, 100, wiel)\n",
    "findoptimal(x,fun, 10, wiel1)\n",
    "findoptimal(x,fun, 0.27, wiel2)\n",
    "findoptimal(x,fun, 0.1, wiel3)\n",
    "\n",
    "print(\"wspolczynniki otrzymanego wielomianu:\",wiel,\"\\n\")\n",
    "print(\"wspolczynniki otrzymanego wielomianu:\",wiel1,\"\\n\")\n",
    "print(\"wspolczynniki otrzymanego wielomianu:\",wiel2,\"\\n\")\n",
    "print(\"wspolczynniki otrzymanego wielomianu:\",wiel3,\"\\n\")\n",
    "pyplot()\n",
    "p = Poly(wiel)\n",
    "p1 = Poly(wiel1)\n",
    "p2 = Poly(wiel2)\n",
    "p3 = Poly(wiel3)\n",
    "xs = range(x[1], stop=x[length(x)], length=10000)\n",
    "plot(xs, [p.(xs), p1.(xs), p2.(xs), p3.(xs)],seriesalpha = 0.55, linewidth=1.3, title=\"Wielomian optymalny\", label=[ \"w_0\" \"w_1\" \"w_2\" \"w_4\"])\n",
    "scatter!(x, fun, label=\"f\")"
   ]
  },
  {
   "cell_type": "code",
   "execution_count": 4,
   "metadata": {},
   "outputs": [
    {
     "ename": "UndefVarError",
     "evalue": "UndefVarError: optimalenough not defined",
     "output_type": "error",
     "traceback": [
      "UndefVarError: optimalenough not defined",
      "",
      "Stacktrace:",
      " [1] findoptimal(::Array{Float64,1}, ::Array{Float64,1}, ::Int32, ::Array{Float64,1}) at ./In[1]:26",
      " [2] top-level scope at In[4]:8"
     ]
    }
   ],
   "source": [
    "x = [-1.00, -0.75, -0.5, -0.25, 0, 0.25, 0.5, 0.75, 1.0]\n",
    "fun = [-0.2209, 0.3259, 0.8826, 1.4392, 2.003, 2.5645, 3.1334, 3.7061, 4.2836]\n",
    "#przyklad z treści zadania \n",
    "wiel = Array{Float64,1}(UndefInitializer(), 0)\n",
    "wiel1 = Array{Float64,1}(UndefInitializer(), 0) \n",
    "wiel2 = Array{Float64,1}(UndefInitializer(), 0) \n",
    "wiel3 = Array{Float64,1}(UndefInitializer(), 0)\n",
    "findoptimal(x,fun, 10, wiel)\n",
    "findoptimal(x,fun, 0.0001, wiel1)\n",
    "findoptimal(x,fun, 0.000015, wiel2)\n",
    "findoptimal(x,fun, 0.00001, wiel3)\n",
    "\n",
    "print(\"wspolczynniki otrzymanego wielomianu w:\",wiel,\"\\n\")\n",
    "print(\"wspolczynniki otrzymanego wielomianu w1:\",wiel1,\"\\n\")\n",
    "print(\"wspolczynniki otrzymanego wielomianu w2:\",wiel2,\"\\n\")\n",
    "print(\"wspolczynniki otrzymanego wielomianu w3:\",wiel3,\"\\n\")\n",
    "pyplot()\n",
    "p = Poly(wiel)\n",
    "p1 = Poly(wiel1)\n",
    "p2 = Poly(wiel2)\n",
    "p3 = Poly(wiel3)\n",
    "xs = range(x[1], stop=x[length(x)], length=10000)\n",
    "plot(xs, [p.(xs), p1.(xs), p2.(xs), p3.(xs)],seriesalpha = 0.55, linewidth=1.3, title=\"Wielomian optymalny\", label=[\"w_2\" \"w_3\" \"w_4\" \"w_5\"])\n",
    "scatter!(x, fun, label=\"f\")"
   ]
  },
  {
   "cell_type": "code",
   "execution_count": 5,
   "metadata": {},
   "outputs": [
    {
     "ename": "UndefVarError",
     "evalue": "UndefVarError: optimalenough not defined",
     "output_type": "error",
     "traceback": [
      "UndefVarError: optimalenough not defined",
      "",
      "Stacktrace:",
      " [1] findoptimal(::Array{Int32,1}, ::Array{Int32,1}, ::Int32, ::Array{Float64,1}) at ./In[1]:26",
      " [2] top-level scope at In[5]:8"
     ]
    }
   ],
   "source": [
    "x = [1,2,3,4,5]\n",
    "fun = [1,32,243,1024,3125]\n",
    "#funkcja x^5 dla punktów równoodległych\n",
    "wiel = Array{Float64,1}(UndefInitializer(), 0)\n",
    "wiel1 = Array{Float64,1}(UndefInitializer(), 0) \n",
    "wiel2 = Array{Float64,1}(UndefInitializer(), 0) \n",
    "wiel3 = Array{Float64,1}(UndefInitializer(), 0)\n",
    "findoptimal(x,fun, 1800000, wiel)\n",
    "findoptimal(x,fun, 140000, wiel1)\n",
    "findoptimal(x,fun, 1900, wiel2)\n",
    "findoptimal(x,fun, 0.000001, wiel3)\n",
    "\n",
    "print(\"wspolczynniki otrzymanego wielomianu:\",wiel,\"\\n\")\n",
    "print(\"wspolczynniki otrzymanego wielomianu:\",wiel1,\"\\n\")\n",
    "print(\"wspolczynniki otrzymanego wielomianu:\",wiel2,\"\\n\")\n",
    "print(\"wspolczynniki otrzymanego wielomianu:\",wiel3,\"\\n\")\n",
    "pyplot()\n",
    "p = Poly(wiel)\n",
    "p1 = Poly(wiel1)\n",
    "p2 = Poly(wiel2)\n",
    "p3 = Poly(wiel3)\n",
    "xs = range(x[1], stop=x[length(x)], length=10000)\n",
    "plot(xs, [p.(xs), p1.(xs), p2.(xs), p3.(xs)],seriesalpha = 0.55, linewidth=1.5, title=\"Wielomian optymalny\", label=[\"w_1\" \"w_2\" \"w_3\" \"w_4\"])\n",
    "scatter!(x, fun, label=\"f\")"
   ]
  },
  {
   "cell_type": "code",
   "execution_count": 6,
   "metadata": {},
   "outputs": [
    {
     "ename": "UndefVarError",
     "evalue": "UndefVarError: optimalenough not defined",
     "output_type": "error",
     "traceback": [
      "UndefVarError: optimalenough not defined",
      "",
      "Stacktrace:",
      " [1] findoptimal(::Array{Float64,1}, ::Array{Float64,1}, ::Int32, ::Array{Float64,1}) at ./In[1]:26",
      " [2] top-level scope at In[6]:8"
     ]
    }
   ],
   "source": [
    "x = [0.1,0.2,0.3,3,5]\n",
    "fun = [0.00001,0.00032,0.00243,243,3125]\n",
    "#funkcja x^5\n",
    "wiel = Array{Float64,1}(UndefInitializer(), 0)\n",
    "wiel1 = Array{Float64,1}(UndefInitializer(), 0) \n",
    "wiel2 = Array{Float64,1}(UndefInitializer(), 0) \n",
    "wiel3 = Array{Float64,1}(UndefInitializer(), 0)\n",
    "findoptimal(x,fun, 1800000, wiel)\n",
    "findoptimal(x,fun, 10000, wiel1)\n",
    "findoptimal(x,fun, 1, wiel2)\n",
    "findoptimal(x,fun, 0.000001, wiel3)\n",
    "\n",
    "print(\"wspolczynniki otrzymanego wielomianu:\",wiel,\"\\n\")\n",
    "print(\"wspolczynniki otrzymanego wielomianu:\",wiel1,\"\\n\")\n",
    "print(\"wspolczynniki otrzymanego wielomianu:\",wiel2,\"\\n\")\n",
    "print(\"wspolczynniki otrzymanego wielomianu:\",wiel3,\"\\n\")\n",
    "pyplot()\n",
    "p = Poly(wiel)\n",
    "p1 = Poly(wiel1)\n",
    "p2 = Poly(wiel2)\n",
    "p3 = Poly(wiel3)\n",
    "xs = range(x[1], stop=x[length(x)], length=10000)\n",
    "plot(xs, [p.(xs), p1.(xs), p2.(xs), p3.(xs)],seriesalpha = 0.55, linewidth=1.5, title=\"Wielomian optymalny\", label=[\"w_1\" \"w_2\" \"w_3\" \"w_4\"])\n",
    "scatter!(x, fun, label=\"f\")"
   ]
  },
  {
   "cell_type": "code",
   "execution_count": 7,
   "metadata": {},
   "outputs": [
    {
     "data": {
      "text/plain": [
       "calculfunc (generic function with 1 method)"
      ]
     },
     "execution_count": 7,
     "metadata": {},
     "output_type": "execute_result"
    }
   ],
   "source": [
    "#funkcja zwracajaca tablice wartosci w zadanych punktach dla x^(x * sin(x))\n",
    "function calculfunc(points, res)\n",
    "    n = length(points)\n",
    "    for i in 1:1:n\n",
    "        append!(res,BigFloat(points[i]^BigFloat(points[i] * sin(points[i]))))\n",
    "    end\n",
    "end"
   ]
  },
  {
   "cell_type": "code",
   "execution_count": 8,
   "metadata": {},
   "outputs": [
    {
     "ename": "UndefVarError",
     "evalue": "UndefVarError: optimalenough not defined",
     "output_type": "error",
     "traceback": [
      "UndefVarError: optimalenough not defined",
      "",
      "Stacktrace:",
      " [1] findoptimal(::Array{Float64,1}, ::Array{Float64,1}, ::Int32, ::Array{Float64,1}) at ./In[1]:26",
      " [2] top-level scope at In[8]:9"
     ]
    }
   ],
   "source": [
    "x = [1,1.5,2,2.5,3,3.5,4,4.5,5]\n",
    "func = Array{Float64,1}(UndefInitializer(), 0)\n",
    "calculfunc(x,func)\n",
    "#funkcja x ^(x * sin(x))\n",
    "wiel = Array{Float64,1}(UndefInitializer(), 0)\n",
    "wiel1 = Array{Float64,1}(UndefInitializer(), 0) \n",
    "wiel2 = Array{Float64,1}(UndefInitializer(), 0) \n",
    "wiel3 = Array{Float64,1}(UndefInitializer(), 0)\n",
    "findoptimal(x,func, 19, wiel)\n",
    "findoptimal(x,func, 12, wiel1)\n",
    "findoptimal(x,func, 9, wiel2)\n",
    "findoptimal(x,func, 3, wiel3)\n",
    "\n",
    "print(\"wspolczynniki otrzymanego wielomianu:\",wiel,\"\\n\")\n",
    "print(\"wspolczynniki otrzymanego wielomianu:\",wiel1,\"\\n\")\n",
    "print(\"wspolczynniki otrzymanego wielomianu:\",wiel2,\"\\n\")\n",
    "print(\"wspolczynniki otrzymanego wielomianu:\",wiel3,\"\\n\")\n",
    "pyplot()\n",
    "p = Poly(wiel)\n",
    "p1 = Poly(wiel1)\n",
    "p2 = Poly(wiel2)\n",
    "p3 = Poly(wiel3)\n",
    "xs = range(x[1], stop=x[length(x)], length=10000)\n",
    "plot(xs, [p.(xs), p1.(xs), p2.(xs), p3.(xs)],seriesalpha = 0.55, linewidth=1.5, title=\"Wielomian optymalny\", label=[\"w_0\" \"w_1\" \"w_2\" \"w_3\"])\n",
    "scatter!(x, func, label=\"f\")"
   ]
  },
  {
   "cell_type": "code",
   "execution_count": 9,
   "metadata": {},
   "outputs": [
    {
     "ename": "UndefVarError",
     "evalue": "UndefVarError: optimalenough not defined",
     "output_type": "error",
     "traceback": [
      "UndefVarError: optimalenough not defined",
      "",
      "Stacktrace:",
      " [1] findoptimal(::Array{Float64,1}, ::Array{Float64,1}, ::Int32, ::Array{Float64,1}) at ./In[1]:26",
      " [2] top-level scope at In[9]:9"
     ]
    }
   ],
   "source": [
    "x = [1,1.125,1.253,1.3999,1.4,4.76324,4.8234,4.9456,5]\n",
    "func = Array{Float64,1}(UndefInitializer(), 0)\n",
    "calculfunc(x,func)\n",
    "#funkcja x ^(x * sin(x))\n",
    "wiel = Array{Float64,1}(UndefInitializer(), 0)\n",
    "wiel1 = Array{Float64,1}(UndefInitializer(), 0) \n",
    "wiel2 = Array{Float64,1}(UndefInitializer(), 0) \n",
    "wiel3 = Array{Float64,1}(UndefInitializer(), 0)\n",
    "findoptimal(x,func, 5, wiel)\n",
    "findoptimal(x,func, 0.6, wiel1)\n",
    "findoptimal(x,func, 0.2, wiel2)\n",
    "findoptimal(x,func, 0.02, wiel3)\n",
    "\n",
    "print(\"wspolczynniki otrzymanego wielomianu:\",wiel,\"\\n\")\n",
    "print(\"wspolczynniki otrzymanego wielomianu:\",wiel1,\"\\n\")\n",
    "print(\"wspolczynniki otrzymanego wielomianu:\",wiel2,\"\\n\")\n",
    "print(\"wspolczynniki otrzymanego wielomianu:\",wiel3,\"\\n\")\n",
    "pyplot()\n",
    "p = Poly(wiel)\n",
    "p1 = Poly(wiel1)\n",
    "p2 = Poly(wiel2)\n",
    "p3 = Poly(wiel3)\n",
    "xs = range(x[1], stop=x[length(x)], length=10000)\n",
    "plot(xs, [p.(xs), p1.(xs), p2.(xs), p3.(xs)],seriesalpha = 0.55, linewidth=1.5, title=\"Wielomian optymalny\", label=[\"w_0\" \"w_1\" \"w_2\" \"w_3\"])\n",
    "scatter!(x, func, label=\"f\")"
   ]
  },
  {
   "cell_type": "code",
   "execution_count": 10,
   "metadata": {},
   "outputs": [
    {
     "data": {
      "text/plain": [
       "calculfunc2 (generic function with 1 method)"
      ]
     },
     "execution_count": 10,
     "metadata": {},
     "output_type": "execute_result"
    }
   ],
   "source": [
    "#funkcja zwracajaca tablice wartosci w zadanych punktach dla sin(x)\n",
    "function calculfunc2(points, res)\n",
    "    n = length(points)\n",
    "    for i in 1:1:n\n",
    "        append!(res,BigFloat(sin(points[i])))\n",
    "    end\n",
    "end"
   ]
  },
  {
   "cell_type": "code",
   "execution_count": 11,
   "metadata": {},
   "outputs": [
    {
     "ename": "UndefVarError",
     "evalue": "UndefVarError: optimalenough not defined",
     "output_type": "error",
     "traceback": [
      "UndefVarError: optimalenough not defined",
      "",
      "Stacktrace:",
      " [1] findoptimal(::Array{Float64,1}, ::Array{Float64,1}, ::Float64, ::Array{Float64,1}) at ./In[1]:26",
      " [2] top-level scope at In[11]:7"
     ]
    }
   ],
   "source": [
    "x = [-12.56, -6.28, 0, 6.28, 12.56]\n",
    "func = Array{Float64,1}(UndefInitializer(), 0)\n",
    "calculfunc2(x,func)\n",
    "#funkcja sin(x) dla punktów równoodległych\n",
    "wiel = Array{Float64,1}(UndefInitializer(), 0)\n",
    "wiel1 = Array{Float64,1}(UndefInitializer(), 0)\n",
    "findoptimal(x,func, 0.0002, wiel)\n",
    "findoptimal(x,func, 0.0000000000001, wiel1)\n",
    "\n",
    "print(\"wspolczynniki otrzymanego wielomianu:\",wiel,\"\\n\")\n",
    "print(\"wspolczynniki otrzymanego wielomianu:\",wiel1,\"\\n\")\n",
    "pyplot()\n",
    "p = Poly(wiel)\n",
    "p1 = Poly(wiel1)\n",
    "xs = range(x[1], stop=x[length(x)], length=10000)\n",
    "plot(xs, [p.(xs), p1.(xs)],seriesalpha = 0.55, linewidth=1.5, title=\"Wielomian optymalny\", label=[\"w_0\" \"w_1\"])\n",
    "scatter!(x, func, label=\"f\")"
   ]
  },
  {
   "cell_type": "code",
   "execution_count": 12,
   "metadata": {},
   "outputs": [
    {
     "ename": "UndefVarError",
     "evalue": "UndefVarError: optimalenough not defined",
     "output_type": "error",
     "traceback": [
      "UndefVarError: optimalenough not defined",
      "",
      "Stacktrace:",
      " [1] findoptimal(::Array{Float64,1}, ::Array{Float64,1}, ::Float64, ::Array{Float64,1}) at ./In[1]:26",
      " [2] top-level scope at In[12]:8"
     ]
    }
   ],
   "source": [
    "x = [-12.56, -12.55, 12.54, 12.55, 12.56]\n",
    "func = Array{Float64,1}(UndefInitializer(), 0)\n",
    "calculfunc2(x,func)\n",
    "#funkcja sin(x) dla punktów różnoodległych\n",
    "wiel = Array{Float64,1}(UndefInitializer(), 0)\n",
    "wiel1 = Array{Float64,1}(UndefInitializer(), 0)\n",
    "wiel2 = Array{Float64,1}(UndefInitializer(), 0)\n",
    "findoptimal(x,func, 0.1, wiel)\n",
    "findoptimal(x,func, 0.001, wiel1)\n",
    "\n",
    "print(\"wspolczynniki otrzymanego wielomianu:\",wiel,\"\\n\")\n",
    "print(\"wspolczynniki otrzymanego wielomianu:\",wiel1,\"\\n\")\n",
    "pyplot()\n",
    "p = Poly(wiel)\n",
    "p1 = Poly(wiel1)\n",
    "xs = range(x[1], stop=x[length(x)], length=10000)\n",
    "plot(xs, [p.(xs), p1.(xs)],seriesalpha = 0.55, linewidth=1.5, title=\"Wielomian optymalny\", label=[\"w_0\" \"w_1\"])\n",
    "scatter!(x, func, label=\"f\")"
   ]
  },
  {
   "cell_type": "code",
   "execution_count": null,
   "metadata": {},
   "outputs": [],
   "source": []
  }
 ],
 "metadata": {
  "kernelspec": {
   "display_name": "Julia 1.0.4",
   "language": "julia",
   "name": "julia-1.0"
  },
  "language_info": {
   "file_extension": ".jl",
   "mimetype": "application/julia",
   "name": "julia",
   "version": "1.0.4"
  }
 },
 "nbformat": 4,
 "nbformat_minor": 2
}
