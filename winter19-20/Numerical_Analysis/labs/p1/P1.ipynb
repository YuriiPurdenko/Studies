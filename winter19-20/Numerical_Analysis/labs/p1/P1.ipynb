{
 "cells": [
  {
   "cell_type": "code",
   "execution_count": 3,
   "metadata": {},
   "outputs": [
    {
     "data": {
      "text/plain": [
       "alg2 (generic function with 1 method)"
      ]
     },
     "execution_count": 3,
     "metadata": {},
     "output_type": "execute_result"
    }
   ],
   "source": [
    "function Clen1(a,b,c,w,x)\n",
    "    n = length(w)\n",
    "    Bx = By = 0\n",
    "    for k = n:1:-1\n",
    "        B = w[k] + (a[k+1]*x+b[k+1])*Bx - By*c[k+2]\n",
    "        By = Bx\n",
    "        Bx = B\n",
    "    end\n",
    "    return a[1]*B[x]\n",
    "end\n",
    "\n",
    "function Clen2(a,b,c,w,x)\n",
    "    n = length(w)\n",
    "    Py = a[1]\n",
    "    wyn = Py*w[1]\n",
    "    Px = (a[2]*x-b[2])*Py\n",
    "    for k = 2:n:1\n",
    "        P = (a[k+2]*x-b[k+2])*Px - c[k+1]*Py\n",
    "        wyn += w[k] * Py\n",
    "        Py = Px\n",
    "        Px = P\n",
    "    end\n",
    "    return wyn+Px*w[n]\n",
    "end\n"
   ]
  },
  {
   "cell_type": "code",
   "execution_count": null,
   "metadata": {},
   "outputs": [],
   "source": [
    "function dHorner(a,x)\n",
    "    n = length(a)\n",
    "    res = 0\n",
    "    xx = 1\n",
    "    for k = 2:n:1\n",
    "        res += (k-1)*xx*a[k]\n",
    "        xx *= x\n",
    "    end\n",
    "    return res\n",
    "end\n",
    "\n",
    "function ClenHor1(a,b,c,w)\n",
    "    n = length(w)\n",
    "    Bx = By = \n",
    "    for k = n:1:-1\n",
    "        B = w[k] + (a[k+1]*x+b[k+1])*Bx - By*c[k+2]\n",
    "        By = Bx\n",
    "        Bx = B\n",
    "    end\n",
    "    return a[1]*B[x]"
   ]
  }
 ],
 "metadata": {
  "kernelspec": {
   "display_name": "Julia 1.2.0",
   "language": "julia",
   "name": "julia-1.2"
  },
  "language_info": {
   "file_extension": ".jl",
   "mimetype": "application/julia",
   "name": "julia",
   "version": "1.2.0"
  }
 },
 "nbformat": 4,
 "nbformat_minor": 2
}
