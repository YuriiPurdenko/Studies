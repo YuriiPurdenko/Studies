{
 "cells": [
  {
   "cell_type": "code",
   "execution_count": 2,
   "metadata": {},
   "outputs": [
    {
     "ename": "ErrorException",
     "evalue": "syntax: invalid assignment location \"2\"",
     "output_type": "error",
     "traceback": [
      "syntax: invalid assignment location \"2\"",
      "",
      "Stacktrace:",
      " [1] top-level scope at /home/wiklam/.julia/packages/IJulia/fRegO/src/kernel.jl:52"
     ]
    }
   ],
   "source": [
    "function alg1(a,b,c,w,x)\n",
    "    n = length(w)\n",
    "    Bx = By = 0\n",
    "    for k = n:1:-1\n",
    "        B = w[k] + (a[k+1]*x+b[k+1])*Bx - Byc*[k+2]\n",
    "        By = Bx\n",
    "        Bx = B\n",
    "    end\n",
    "    return a[1]*B[x]\n",
    "end\n",
    "\n",
    "function alg2(a,b,c,w,x)\n",
    "    n = length(w)\n",
    "    Py = a[1]\n",
    "    wyn = Py*w[1]\n",
    "    Px = (a[2]*x-b[2])*Py\n",
    "    for k = 2:n:1\n",
    "        P = (a[k+2]*x-b[k+2])*Px - c[k+1]*Py\n",
    "        wyn += w[k] * Py\n",
    "        Py = Px\n",
    "        Px = P\n",
    "    end\n",
    "    return wyn+Px*w[n]\n",
    "end"
   ]
  },
  {
   "cell_type": "code",
   "execution_count": null,
   "metadata": {},
   "outputs": [],
   "source": []
  }
 ],
 "metadata": {
  "kernelspec": {
   "display_name": "Julia 1.2.0",
   "language": "julia",
   "name": "julia-1.2"
  },
  "language_info": {
   "file_extension": ".jl",
   "mimetype": "application/julia",
   "name": "julia",
   "version": "1.2.0"
  }
 },
 "nbformat": 4,
 "nbformat_minor": 2
}
