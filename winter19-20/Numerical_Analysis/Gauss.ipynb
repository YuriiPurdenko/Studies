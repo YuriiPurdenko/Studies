{
 "cells": [
  {
   "cell_type": "code",
   "execution_count": 145,
   "metadata": {},
   "outputs": [
    {
     "data": {
      "text/plain": [
       "solve2 (generic function with 1 method)"
      ]
     },
     "execution_count": 145,
     "metadata": {},
     "output_type": "execute_result"
    }
   ],
   "source": [
    "function x2(A, b, k, n)\n",
    "    r = b[k]\n",
    "    s = 0.\n",
    "    for i in (k+1):n\n",
    "        s += A[i, k] * b[i]\n",
    "    end\n",
    "    r -= s\n",
    "    r /= A[k, k]\n",
    "    return r\n",
    "end\n",
    "\n",
    "function myGauss(A, b)\n",
    "    n = size(A)[1]\n",
    "    for i in 2:1:n\n",
    "        for j in i:1:n\n",
    "            z = A[i-1,j]/A[i-1,i-1]\n",
    "            for g in i:1:n\n",
    "                A[g,j] = A[g, j] - z * A[g, i-1]\n",
    "            end\n",
    "            b[j] = b[j] - z*b[i-1]\n",
    "        end\n",
    "    end\n",
    "    for i in 0:1:n-1\n",
    "        \n",
    "        b[n-i] = x2(A, b, n-i, n)\n",
    "    end\n",
    "end\n",
    "function solve2(C, d)\n",
    "    b = copy(d)\n",
    "    A = transpose(C)\n",
    "    n = size(b)[1]\n",
    "    for k in 2:n\n",
    "        for i in k:n\n",
    "            M = -A[k - 1, i] / A[k - 1, k - 1]\n",
    "            for j in k:n\n",
    "                A[j, i] = A[j, i] + M * A[j, k - 1]\n",
    "            end\n",
    "        b[i] = b[i] + M * b[k - 1]\n",
    "        end\n",
    "    end\n",
    "    for k in 0:(n - 1)\n",
    "        b[Int64(n - k)] = x2(A, b, n - k, n)\n",
    "    end\n",
    "    return b\n",
    "end"
   ]
  },
  {
   "cell_type": "code",
   "execution_count": 148,
   "metadata": {},
   "outputs": [
    {
     "name": "stdout",
     "output_type": "stream",
     "text": [
      "  0.000010 seconds (8 allocations: 576 bytes)\n",
      "  0.000003 seconds (5 allocations: 272 bytes)\n"
     ]
    },
    {
     "data": {
      "text/plain": [
       "3-element Array{Float64,1}:\n",
       " -15.923076923076923 \n",
       "   7.384615384615385 \n",
       "   0.3076923076923077"
      ]
     },
     "execution_count": 148,
     "metadata": {},
     "output_type": "execute_result"
    }
   ],
   "source": [
    "A = [1. 3. 9.\n",
    "    1. 2. 7.\n",
    "    3. 11. 5.]\n",
    "b = [9., 1., 35.]\n",
    "Abad = [-3.   5.   5.   3.  -7.\n",
    "         3.  -5.   8.  -8.  -6.\n",
    "         8.   2.   8.   2.  -8.\n",
    "        -6.  -2.   6.   4.  -8.\n",
    "        -8.   4.  -6.  -1.   8.]\n",
    "Aok = [ -8.   4.  -6.  -1.   8.\n",
    "         3.  -5.   8.  -8.  -6.\n",
    "         8.   2.   8.   2.  -8.\n",
    "        -6.  -2.   6.   4.  -8.\n",
    "        -3.   5.   5.   3.  -7.]\n",
    "@time \\(A,b)\n",
    "@time solve2(A,b)"
   ]
  },
  {
   "cell_type": "code",
   "execution_count": 144,
   "metadata": {},
   "outputs": [
    {
     "name": "stdout",
     "output_type": "stream",
     "text": [
      "  0.000005 seconds (8 allocations: 736 bytes)\n",
      "  0.000003 seconds (4 allocations: 160 bytes)\n",
      "[-0.3119925046845721, 0.35883822610868216, 0.9377472413075164, -0.02852383926712456, 0.3333333333333334]"
     ]
    }
   ],
   "source": [
    "b = [1.,3.,3.,4.,5.]\n",
    "\\(Aok,b)\n",
    "@time \\(Aok,b)\n",
    "@time solve2(Aok,b)"
   ]
  },
  {
   "cell_type": "code",
   "execution_count": null,
   "metadata": {},
   "outputs": [],
   "source": []
  }
 ],
 "metadata": {
  "kernelspec": {
   "display_name": "Julia 1.3.1",
   "language": "julia",
   "name": "julia-1.3"
  },
  "language_info": {
   "file_extension": ".jl",
   "mimetype": "application/julia",
   "name": "julia",
   "version": "1.3.1"
  }
 },
 "nbformat": 4,
 "nbformat_minor": 2
}
