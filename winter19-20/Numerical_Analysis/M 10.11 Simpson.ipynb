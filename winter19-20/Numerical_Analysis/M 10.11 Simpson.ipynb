{
 "cells": [
  {
   "cell_type": "code",
   "execution_count": 12,
   "metadata": {},
   "outputs": [
    {
     "data": {
      "text/plain": [
       "Simsponerror (generic function with 1 method)"
      ]
     },
     "execution_count": 12,
     "metadata": {},
     "output_type": "execute_result"
    }
   ],
   "source": [
    "function func(x)\n",
    "    return BigFloat(cos(x)*cos(x)*ℯ^(-x))\n",
    "end\n",
    "function Simpson(a, b, n, funct)\n",
    "    h = BigFloat(b - a)/n\n",
    "    t = a\n",
    "\n",
    "    result = -BigFloat(funct(t))\n",
    "    for i in 1:1:n\n",
    "        if i%2 == 0\n",
    "            result += BigFloat(2) * BigFloat(funct(t))\n",
    "        else\n",
    "            result += BigFloat(4) * BigFloat(funct(t))\n",
    "        end\n",
    "        t += BigFloat(h)\n",
    "    end\n",
    "        t -= BigFloat(h)\n",
    "    result -= BigFloat(funct(t))\n",
    "\n",
    "    return result *= BigFloat(h/3)\n",
    "end\n",
    "\n",
    "#pochodna e^(-x)(4sin^2(x) - 3cos^2(x) - 24sin(x)cos(x)) #wiec min value uznam jako -(4+3+24)\n",
    "function Simpsonerror(a, b, n, mini)\n",
    "    h = BigFloat(b - a)/n\n",
    "    return (h*h)*(h*h)*(h*mini)/90\n",
    "end"
   ]
  },
  {
   "cell_type": "code",
   "execution_count": 38,
   "metadata": {},
   "outputs": [
    {
     "data": {
      "text/plain": [
       "0.6003335000000416666819444433779719137031723393400916639463047031651451237584777"
      ]
     },
     "execution_count": 38,
     "metadata": {},
     "output_type": "execute_result"
    }
   ],
   "source": [
    "a = BigFloat(0)\n",
    "b = BigFloat(100)\n",
    "n = 100000\n",
    "Simpson(a, b, n, func)"
   ]
  },
  {
   "cell_type": "code",
   "execution_count": 39,
   "metadata": {},
   "outputs": [
    {
     "data": {
      "text/plain": [
       "3.444444444444444444444444444444444444444444444444444444444444444444444444444355e-16"
      ]
     },
     "execution_count": 39,
     "metadata": {},
     "output_type": "execute_result"
    }
   ],
   "source": [
    "Simsponerror(a,b,n,31)"
   ]
  },
  {
   "cell_type": "code",
   "execution_count": 40,
   "metadata": {},
   "outputs": [
    {
     "data": {
      "text/plain": [
       "3.720075976020835962959695803863118337358892292376781967120613876663290475895811e-44"
      ]
     },
     "execution_count": 40,
     "metadata": {},
     "output_type": "execute_result"
    }
   ],
   "source": [
    "1/BigFloat(ℯ^(b))"
   ]
  },
  {
   "cell_type": "code",
   "execution_count": null,
   "metadata": {},
   "outputs": [],
   "source": []
  }
 ],
 "metadata": {
  "kernelspec": {
   "display_name": "Julia 1.2.0",
   "language": "julia",
   "name": "julia-1.2"
  },
  "language_info": {
   "file_extension": ".jl",
   "mimetype": "application/julia",
   "name": "julia",
   "version": "1.2.0"
  }
 },
 "nbformat": 4,
 "nbformat_minor": 2
}
