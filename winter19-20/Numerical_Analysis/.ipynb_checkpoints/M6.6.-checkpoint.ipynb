{
 "cells": [
  {
   "cell_type": "code",
   "execution_count": 86,
   "metadata": {},
   "outputs": [
    {
     "data": {
      "text/plain": [
       "func (generic function with 1 method)"
      ]
     },
     "execution_count": 86,
     "metadata": {},
     "output_type": "execute_result"
    }
   ],
   "source": [
    "setprecision(64)\n",
    "start = -5\n",
    "finish = 5\n",
    "n = 10\n",
    "function func(x)\n",
    "    return Base.MathConstants.e^(atan(x))\n",
    "end"
   ]
  },
  {
   "cell_type": "code",
   "execution_count": 87,
   "metadata": {},
   "outputs": [
    {
     "data": {
      "text/plain": [
       "wiel (generic function with 1 method)"
      ]
     },
     "execution_count": 87,
     "metadata": {},
     "output_type": "execute_result"
    }
   ],
   "source": [
    "function wiel(start, finish, n)\n",
    "    h = BigFloat(finish - start)/n\n",
    "    x = start\n",
    "    a = [BigFloat(1),BigFloat(0),BigFloat(0),BigFloat(0),BigFloat(0),BigFloat(0),BigFloat(0),BigFloat(0),BigFloat(0),BigFloat(0),BigFloat(0),BigFloat(0),BigFloat(0),BigFloat(0),BigFloat(0),BigFloat(0),BigFloat(0),BigFloat(0),BigFloat(0),BigFloat(0),BigFloat(0),BigFloat(0),BigFloat(0),BigFloat(0),BigFloat(0),BigFloat(0),BigFloat(0),BigFloat(0),BigFloat(0),BigFloat(0),BigFloat(0),BigFloat(0),BigFloat(0),BigFloat(0),BigFloat(0),BigFloat(0),BigFloat(0),BigFloat(0),BigFloat(0),BigFloat(0),BigFloat(0),BigFloat(0),BigFloat(0),BigFloat(0),BigFloat(0),BigFloat(0),BigFloat(0),BigFloat(0),BigFloat(0),BigFloat(0),BigFloat(0)]\n",
    "    b = [BigFloat(0),BigFloat(0),BigFloat(0),BigFloat(0),BigFloat(0),BigFloat(0),BigFloat(0),BigFloat(0),BigFloat(0),BigFloat(0),BigFloat(0),BigFloat(0),BigFloat(0),BigFloat(0),BigFloat(0),BigFloat(0),BigFloat(0),BigFloat(0),BigFloat(0),BigFloat(0),BigFloat(0),BigFloat(0),BigFloat(0),BigFloat(0),BigFloat(0),BigFloat(0),BigFloat(0),BigFloat(0),BigFloat(0),BigFloat(0),BigFloat(0),BigFloat(0),BigFloat(0),BigFloat(0),BigFloat(0),BigFloat(0),BigFloat(0),BigFloat(0),BigFloat(0),BigFloat(0),BigFloat(0),BigFloat(0),BigFloat(0),BigFloat(0),BigFloat(0),BigFloat(0),BigFloat(0),BigFloat(0),BigFloat(0),BigFloat(0),BigFloat(0)]\n",
    "    a[1] = 1\n",
    "    \n",
    "    for j = 1:n+1\n",
    "        for i = 1:n+1\n",
    "            b[i+1] = a[i]\n",
    "            a[i] *= x\n",
    "        end\n",
    "        for i = 1:n+1\n",
    "            a[i] += b[i]\n",
    "        end\n",
    "        x += h\n",
    "    end\n",
    "    return a\n",
    "end"
   ]
  },
  {
   "cell_type": "code",
   "execution_count": 88,
   "metadata": {},
   "outputs": [
    {
     "ename": "InexactError",
     "evalue": "InexactError: Int64(22.5)",
     "output_type": "error",
     "traceback": [
      "InexactError: Int64(22.5)",
      "",
      "Stacktrace:",
      " [1] Type at ./float.jl:703 [inlined]",
      " [2] convert at ./number.jl:7 [inlined]",
      " [3] setindex! at ./array.jl:766 [inlined]",
      " [4] wiel(::Int64, ::Int64, ::Int64) at ./In[87]:11",
      " [5] top-level scope at In[88]:1"
     ]
    }
   ],
   "source": [
    "print(wiel(start, finish, n))"
   ]
  },
  {
   "cell_type": "code",
   "execution_count": null,
   "metadata": {},
   "outputs": [],
   "source": []
  }
 ],
 "metadata": {
  "kernelspec": {
   "display_name": "Julia 1.2.0",
   "language": "julia",
   "name": "julia-1.2"
  },
  "language_info": {
   "file_extension": ".jl",
   "mimetype": "application/julia",
   "name": "julia",
   "version": "1.2.0"
  }
 },
 "nbformat": 4,
 "nbformat_minor": 2
}
