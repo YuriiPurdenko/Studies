{
 "cells": [
  {
   "cell_type": "code",
   "execution_count": 20,
   "metadata": {},
   "outputs": [
    {
     "data": {
      "text/plain": [
       "myGauss (generic function with 1 method)"
      ]
     },
     "execution_count": 20,
     "metadata": {},
     "output_type": "execute_result"
    }
   ],
   "source": [
    "function Gauss_elim(A, b)\n",
    "    n = size[A][1];\n",
    "    for k = 1:n-1\n",
    "        for i=k+1:n\n",
    "            z = A[i,k]/A[k,k];\n",
    "            A[i,k] = z  #pod przek pamietam mnozniki czyli macierz L\n",
    "            for j = k+1:n\n",
    "                A[i,j] -= z * A[k,j];\n",
    "            end\n",
    "        end\n",
    "    end\n",
    "    # Ly = b wynik w b\n",
    "    for k=1:n-1\n",
    "        for i = k+1:n\n",
    "            b[i] -= A[i,k]*b[k];\n",
    "        end\n",
    "    end\n",
    "    #Ux = y\n",
    "    for i = n:-1:1\n",
    "        for j = i+1:n\n",
    "            b[i]-= A[i,j] * b[j];\n",
    "        end\n",
    "        b[i]/=A[i,i];\n",
    "    end\n",
    "    return b\n",
    "end\n",
    "                \n",
    "function myGauss(A, b)\n",
    "    c, r = size(A)\n",
    "    print(c)\n",
    "end"
   ]
  },
  {
   "cell_type": "code",
   "execution_count": 23,
   "metadata": {},
   "outputs": [
    {
     "name": "stdout",
     "output_type": "stream",
     "text": [
      "2"
     ]
    }
   ],
   "source": [
    "A = [1 3  1\n",
    "    1 1 -1\n",
    "    3 11 6]\n",
    "b = [9, 1, 35]\n",
    "Abad = [-3   5   5   3  -7\n",
    "         3  -5   8  -8  -6\n",
    "         8   2   8   2  -8\n",
    "        -6  -2   6   4  -8\n",
    "        -8   4  -6  -1   8]\n",
    "Aok = [ -8   4  -6  -1   8\n",
    "         3  -5   8  -8  -6\n",
    "         8   2   8   2  -8\n",
    "        -6  -2   6   4  -8\n",
    "        -3   5   5   3  -7]\n",
    "myGauss(A, b)\n"
   ]
  },
  {
   "cell_type": "code",
   "execution_count": null,
   "metadata": {},
   "outputs": [],
   "source": []
  }
 ],
 "metadata": {
  "kernelspec": {
   "display_name": "Julia 1.3.1",
   "language": "julia",
   "name": "julia-1.3"
  },
  "language_info": {
   "file_extension": ".jl",
   "mimetype": "application/julia",
   "name": "julia",
   "version": "1.3.1"
  }
 },
 "nbformat": 4,
 "nbformat_minor": 2
}
