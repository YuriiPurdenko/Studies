{
 "cells": [
  {
   "cell_type": "code",
   "execution_count": 60,
   "metadata": {},
   "outputs": [
    {
     "data": {
      "text/plain": [
       "test (generic function with 1 method)"
      ]
     },
     "execution_count": 60,
     "metadata": {},
     "output_type": "execute_result"
    }
   ],
   "source": [
    "#ale brzydkie sa te kody w julii :(\n",
    "n = 1000\n",
    "function przedzialy(x)\n",
    "    if (x*x > 1)\n",
    "        return 0.5\n",
    "    end\n",
    "    if(x > 0)\n",
    "        return max(sqrt(1 - x*x), 0.5)\n",
    "    else\n",
    "        return sqrt(1 - x*x)\n",
    "    end\n",
    "end\n",
    "function func(y,x)\n",
    "    return sin(y)*sin(y)/sqrt(1+x*x+y*y)\n",
    "end\n",
    "\n",
    "function base(x, a)\n",
    "    return sin(x) * sin(x) * trapez(-przedzialy(x), przedzialy(x), func, x)\n",
    "end\n",
    "\n",
    "function test(x, y)\n",
    "    return sin(x)\n",
    "end"
   ]
  },
  {
   "cell_type": "code",
   "execution_count": 61,
   "metadata": {},
   "outputs": [
    {
     "data": {
      "text/plain": [
       "trapez (generic function with 1 method)"
      ]
     },
     "execution_count": 61,
     "metadata": {},
     "output_type": "execute_result"
    }
   ],
   "source": [
    "function trapez(a, b, f, extra)\n",
    "    result = 0\n",
    "    h = (b-a)/n\n",
    "    for i in 1:1:n\n",
    "        result += (f(a, extra)+f(a + h, extra)) * h / 2\n",
    "        a += h\n",
    "    end\n",
    "    return result\n",
    "end"
   ]
  },
  {
   "cell_type": "code",
   "execution_count": 62,
   "metadata": {},
   "outputs": [
    {
     "data": {
      "text/plain": [
       "0.13201902706027988"
      ]
     },
     "execution_count": 62,
     "metadata": {},
     "output_type": "execute_result"
    }
   ],
   "source": [
    "trapez(-1, 3, base, 1)"
   ]
  },
  {
   "cell_type": "code",
   "execution_count": null,
   "metadata": {},
   "outputs": [],
   "source": []
  }
 ],
 "metadata": {
  "kernelspec": {
   "display_name": "Julia 1.0.4",
   "language": "julia",
   "name": "julia-1.0"
  },
  "language_info": {
   "file_extension": ".jl",
   "mimetype": "application/julia",
   "name": "julia",
   "version": "1.0.4"
  }
 },
 "nbformat": 4,
 "nbformat_minor": 2
}
