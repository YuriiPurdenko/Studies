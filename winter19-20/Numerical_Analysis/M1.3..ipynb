{
 "cells": [
  {
   "cell_type": "code",
   "execution_count": 13,
   "metadata": {},
   "outputs": [
    {
     "data": {
      "text/plain": [
       "bladwzgl (generic function with 1 method)"
      ]
     },
     "execution_count": 13,
     "metadata": {},
     "output_type": "execute_result"
    }
   ],
   "source": [
    "res = -14.636489\n",
    "p = 4.71\n",
    "function w16(x = Float16)\n",
    "    return Float16(x*x*x) - 6Float16(x*x) + 3Float16(x) - Float16(0.149)\n",
    "end\n",
    "\n",
    "function w32(x = Float32)\n",
    "    return Float32(x*x*x) - 6Float32(x*x) + 3Float32(x) - Float32(0.149)\n",
    "end\n",
    "\n",
    "function w64(x = Float64)\n",
    "    return Float64(x*x*x) - 6Float64(x*x) + 3Float64(x) - Float64(0.149)\n",
    "end\n",
    "\n",
    "function bw16(x = Float16)\n",
    "    return Float16(Float16(x - 6)x + 3)x - Float16(0.149)\n",
    "end\n",
    "\n",
    "function bw32(x = Float32)\n",
    "    return Float32(Float32(x - 6)x + 3)x - Float32(0.149)\n",
    "end\n",
    "\n",
    "function bw64(x = Float64)\n",
    "    return Float64(Float64(x - 6)x + 3)x - Float64(0.149)\n",
    "end\n",
    "\n",
    "function bladwzgl(x,y)\n",
    "    z = (Float64(x) - Float64(y)) / Float64(x)\n",
    "    if z < 0\n",
    "        z = -z\n",
    "    end\n",
    "    print(z)\n",
    "    print('\\n')\n",
    "end"
   ]
  },
  {
   "cell_type": "code",
   "execution_count": 16,
   "metadata": {},
   "outputs": [
    {
     "name": "stdout",
     "output_type": "stream",
     "text": [
      "blad wzgl \n",
      "16: 0.00028258143056034856\n",
      "\n",
      "32: 2.6647152324068647e-7\n",
      "\n",
      "64: 4.85459822885188e-16\n",
      "\n",
      "blad wzgl lepszej funkcji \n",
      "16: 9.075829678147579e-5\n",
      "\n",
      "32: 5.141166218176121e-8\n",
      "\n",
      "64: -0.0\n"
     ]
    }
   ],
   "source": [
    "print(\"blad wzgl \\n16: \")\n",
    "bladwzgl(res,w16(p))\n",
    "print(\"\\n32: \")\n",
    "bladwzgl(res,w32(p))\n",
    "print(\"\\n64: \")\n",
    "bladwzgl(res,w64(p))\n",
    "print(\"\\nblad wzgl lepszej funkcji \\n16: \")\n",
    "bladwzgl(res,bw16(p))\n",
    "print(\"\\n32: \")\n",
    "bladwzgl(res,bw32(p))\n",
    "print(\"\\n64: \")\n",
    "bladwzgl(res,bw64(p))\n"
   ]
  },
  {
   "cell_type": "code",
   "execution_count": null,
   "metadata": {},
   "outputs": [],
   "source": []
  },
  {
   "cell_type": "code",
   "execution_count": null,
   "metadata": {},
   "outputs": [],
   "source": []
  }
 ],
 "metadata": {
  "kernelspec": {
   "display_name": "Julia 1.0.4",
   "language": "julia",
   "name": "julia-1.0"
  },
  "language_info": {
   "file_extension": ".jl",
   "mimetype": "application/julia",
   "name": "julia",
   "version": "1.0.4"
  }
 },
 "nbformat": 4,
 "nbformat_minor": 2
}
